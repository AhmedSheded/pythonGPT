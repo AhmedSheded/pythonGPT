{
 "cells": [
  {
   "cell_type": "code",
   "execution_count": 1,
   "metadata": {
    "collapsed": true,
    "ExecuteTime": {
     "end_time": "2023-05-19T14:55:30.069742160Z",
     "start_time": "2023-05-19T14:55:30.020481028Z"
    }
   },
   "outputs": [],
   "source": [
    "from src.pythonGPT.pythonGPT import PythonGPT"
   ]
  },
  {
   "cell_type": "code",
   "execution_count": 2,
   "outputs": [],
   "source": [
    "gpt = PythonGPT()"
   ],
   "metadata": {
    "collapsed": false,
    "ExecuteTime": {
     "end_time": "2023-05-19T14:55:31.409179391Z",
     "start_time": "2023-05-19T14:55:31.404849934Z"
    }
   }
  },
  {
   "cell_type": "code",
   "execution_count": 5,
   "outputs": [
    {
     "name": "stdout",
     "output_type": "stream",
     "text": [
      "An error occurred: 400 Client Error: Bad Request for url: https://api.openai.com/v1/chat/completions\n"
     ]
    },
    {
     "ename": "TypeError",
     "evalue": "cannot unpack non-iterable NoneType object",
     "output_type": "error",
     "traceback": [
      "\u001B[0;31m---------------------------------------------------------------------------\u001B[0m",
      "\u001B[0;31mTypeError\u001B[0m                                 Traceback (most recent call last)",
      "Cell \u001B[0;32mIn[5], line 1\u001B[0m\n\u001B[0;32m----> 1\u001B[0m conversation_id, respose\u001B[38;5;241m=\u001B[39m gpt\u001B[38;5;241m.\u001B[39mrequest(prompt\u001B[38;5;241m=\u001B[39m\u001B[38;5;124m'\u001B[39m\u001B[38;5;124mwhat is the last question tha i asked you here\u001B[39m\u001B[38;5;124m'\u001B[39m, conversation_id\u001B[38;5;241m=\u001B[39m\u001B[38;5;124m'\u001B[39m\u001B[38;5;124mchatcmpl-7HvnwQrLGfwRlhxfTykuuDGEqyy6b\u001B[39m\u001B[38;5;124m'\u001B[39m)\n",
      "\u001B[0;31mTypeError\u001B[0m: cannot unpack non-iterable NoneType object"
     ]
    }
   ],
   "source": [
    "conversation_id, respose= gpt.request(prompt='what is the last question tha i asked you here', conversation_id='chatcmpl-7HvnwQrLGfwRlhxfTykuuDGEqyy6b')"
   ],
   "metadata": {
    "collapsed": false,
    "ExecuteTime": {
     "end_time": "2023-05-19T14:58:08.359375145Z",
     "start_time": "2023-05-19T14:58:07.720212839Z"
    }
   }
  },
  {
   "cell_type": "code",
   "execution_count": 1,
   "outputs": [
    {
     "name": "stdout",
     "output_type": "stream",
     "text": [
      "Requirement already satisfied: pythonGPT3 in /home/sheded/DataspellProjects/pythonGPT/lib/python3.10/site-packages (1.0.0)\r\n"
     ]
    }
   ],
   "source": [
    "!pip install pythonGPT3"
   ],
   "metadata": {
    "collapsed": false,
    "ExecuteTime": {
     "end_time": "2023-05-19T17:46:58.890910170Z",
     "start_time": "2023-05-19T17:46:54.626375289Z"
    }
   }
  },
  {
   "cell_type": "code",
   "execution_count": 3,
   "outputs": [
    {
     "ename": "ImportError",
     "evalue": "cannot import name 'PythonGPT' from 'pythonGPT' (/home/sheded/DataspellProjects/pythonGPT/lib/python3.10/site-packages/pythonGPT/__init__.py)",
     "output_type": "error",
     "traceback": [
      "\u001B[0;31m---------------------------------------------------------------------------\u001B[0m",
      "\u001B[0;31mImportError\u001B[0m                               Traceback (most recent call last)",
      "Cell \u001B[0;32mIn[3], line 1\u001B[0m\n\u001B[0;32m----> 1\u001B[0m \u001B[38;5;28;01mfrom\u001B[39;00m \u001B[38;5;21;01mpythonGPT\u001B[39;00m \u001B[38;5;28;01mimport\u001B[39;00m PythonGPT\n",
      "\u001B[0;31mImportError\u001B[0m: cannot import name 'PythonGPT' from 'pythonGPT' (/home/sheded/DataspellProjects/pythonGPT/lib/python3.10/site-packages/pythonGPT/__init__.py)"
     ]
    }
   ],
   "source": [
    "from pythonGPT import PythonGPT"
   ],
   "metadata": {
    "collapsed": false,
    "ExecuteTime": {
     "end_time": "2023-05-19T17:49:01.885174595Z",
     "start_time": "2023-05-19T17:49:01.831961951Z"
    }
   }
  },
  {
   "cell_type": "code",
   "execution_count": null,
   "outputs": [],
   "source": [],
   "metadata": {
    "collapsed": false
   }
  }
 ],
 "metadata": {
  "kernelspec": {
   "display_name": "Python 3",
   "language": "python",
   "name": "python3"
  },
  "language_info": {
   "codemirror_mode": {
    "name": "ipython",
    "version": 2
   },
   "file_extension": ".py",
   "mimetype": "text/x-python",
   "name": "python",
   "nbconvert_exporter": "python",
   "pygments_lexer": "ipython2",
   "version": "2.7.6"
  }
 },
 "nbformat": 4,
 "nbformat_minor": 0
}
